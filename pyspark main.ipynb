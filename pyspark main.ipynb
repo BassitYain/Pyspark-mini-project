{
  "cells": [
    {
      "cell_type": "markdown",
      "metadata": {
        "id": "p8AHwQiEcMGC"
      },
      "source": [
        "# Mini Project template\n",
        "\n",
        "Name: \n"
      ]
    },
    {
      "cell_type": "markdown",
      "metadata": {
        "id": "mCQUREXUgm1x"
      },
      "source": [
        "## Install Dependencies"
      ]
    },
    {
      "cell_type": "markdown",
      "metadata": {},
      "source": [
        "Java & Spark"
      ]
    },
    {
      "cell_type": "code",
      "execution_count": null,
      "metadata": {
        "id": "hKRcbhGWch0Y"
      },
      "outputs": [],
      "source": [
        "!apt-get install openjdk-8-jdk-headless -qq > /dev/null\n",
        "!wget -q https://dlcdn.apache.org/spark/spark-3.4.1/spark-3.4.1-bin-hadoop3.tgz\n",
        "\n",
        "# Alternatives if the first link is too long:\n",
        "# !wget -q http://archive.apache.org/dist/spark/spark-3.4.1/spark-3.4.1-bin-hadoop3.tgz\n",
        "# !wget -q http://apache.osuosl.org/spark/spark-3.4.1/spark-3.4.1-bin-hadoop3.tgz\n",
        "\n",
        "!tar xf spark-3.4.1-bin-hadoop3.tgz\n",
        "!pip install -q findspark\n",
        "\n",
        "import os\n",
        "os.environ[\"JAVA_HOME\"] = \"/usr/lib/jvm/java-8-openjdk-amd64\"\n",
        "os.environ[\"SPARK_HOME\"] = \"/content/spark-3.4.1-bin-hadoop3\""
      ]
    },
    {
      "cell_type": "code",
      "execution_count": null,
      "metadata": {
        "colab": {
          "base_uri": "https://localhost:8080/",
          "height": 219
        },
        "id": "Uwnw2_t9em5l",
        "outputId": "dd3a070b-2fed-4ac9-acbf-1dd794707385"
      },
      "outputs": [],
      "source": [
        "\n",
        "import findspark\n",
        "findspark.init()\n",
        "\n",
        "from pyspark.sql import SparkSession\n",
        "\n",
        "spark = (\n",
        "    SparkSession\n",
        "      .builder\n",
        "      .appName(\"CollabApp\")\n",
        "      .master(\"local[*]\")\n",
        "      .config('spark.ui.port', '4050')\n",
        "      .config(\"spark.dynamicAllocation.enabled\", \"false\")\n",
        "      .config(\"spark.sql.adaptive.enabled\", \"false\")\n",
        "      .enableHiveSupport() \n",
        "      .getOrCreate()\n",
        ")\n",
        "spark.conf.set(\"spark.sql.repl.eagerEval.enabled\", True)\n",
        "\n",
        "sc = spark.sparkContext\n",
        "\n",
        "spark"
      ]
    },
    {
      "cell_type": "code",
      "execution_count": 1,
      "metadata": {},
      "outputs": [
        {
          "name": "stderr",
          "output_type": "stream",
          "text": [
            "23/10/25 15:47:57 WARN Utils: Your hostname, Yains-MacBook-Air.local resolves to a loopback address: 127.0.0.1; using 172.20.10.6 instead (on interface en0)\n",
            "23/10/25 15:47:57 WARN Utils: Set SPARK_LOCAL_IP if you need to bind to another address\n",
            "Setting default log level to \"WARN\".\n",
            "To adjust logging level use sc.setLogLevel(newLevel). For SparkR, use setLogLevel(newLevel).\n",
            "23/10/25 15:47:58 WARN NativeCodeLoader: Unable to load native-hadoop library for your platform... using builtin-java classes where applicable\n"
          ]
        },
        {
          "data": {
            "text/html": [
              "\n",
              "            <div>\n",
              "                <p><b>SparkSession - hive</b></p>\n",
              "                \n",
              "        <div>\n",
              "            <p><b>SparkContext</b></p>\n",
              "\n",
              "            <p><a href=\"http://172.20.10.6:4050\">Spark UI</a></p>\n",
              "\n",
              "            <dl>\n",
              "              <dt>Version</dt>\n",
              "                <dd><code>v3.4.1</code></dd>\n",
              "              <dt>Master</dt>\n",
              "                <dd><code>local[*]</code></dd>\n",
              "              <dt>AppName</dt>\n",
              "                <dd><code>TeQuanApp</code></dd>\n",
              "            </dl>\n",
              "        </div>\n",
              "        \n",
              "            </div>\n",
              "        "
            ],
            "text/plain": [
              "<pyspark.sql.session.SparkSession at 0x10b8f55d0>"
            ]
          },
          "execution_count": 1,
          "metadata": {},
          "output_type": "execute_result"
        }
      ],
      "source": [
        "import os\n",
        "os.environ[\"SPARK_HOME\"] = \"/Users/tequan/Desktop/Cours ISEN/Hadoop & Spark/spark\"\n",
        "\n",
        "import findspark\n",
        "findspark.init()\n",
        "\n",
        "from pyspark.sql import SparkSession\n",
        "spark = (    \n",
        "         SparkSession      \n",
        "            .builder      \n",
        "            .appName(\"TeQuanApp\")      \n",
        "            .master(\"local[*]\")      \n",
        "            .config('spark.ui.port', '4050')      \n",
        "            .config(\"spark.dynamicAllocation.enabled\", \"false\")      \n",
        "            .config(\"spark.sql.adaptive.enabled\", \"false\")      \n",
        "            .enableHiveSupport() # Enable Hive support      \n",
        "            .getOrCreate()\n",
        ")\n",
        "\n",
        "spark.conf.set(\"spark.sql.repl.eagerEval.enabled\", True)\n",
        "sc = spark.sparkContext\n",
        "spark"
      ]
    },
    {
      "cell_type": "markdown",
      "metadata": {},
      "source": [
        "Python:"
      ]
    },
    {
      "cell_type": "code",
      "execution_count": 2,
      "metadata": {},
      "outputs": [],
      "source": [
        "from pyspark.sql.functions import *\n",
        "from pyspark.sql.types import *\n",
        "import math\n",
        "import re"
      ]
    },
    {
      "cell_type": "markdown",
      "metadata": {},
      "source": [
        "NGROK: Set your authtoken instead of `AuthCode` :"
      ]
    },
    {
      "cell_type": "code",
      "execution_count": null,
      "metadata": {
        "colab": {
          "base_uri": "https://localhost:8080/"
        },
        "id": "kQ57poGOt6Rp",
        "outputId": "5648ecd3-493c-44ec-acec-29ca15a60074"
      },
      "outputs": [],
      "source": [
        "!wget https://bin.equinox.io/c/4VmDzA7iaHb/ngrok-stable-linux-amd64.zip\n",
        "!unzip ngrok-stable-linux-amd64.zip\n",
        "get_ipython().system_raw('./ngrok authtoken HERE') # <- change here\n",
        "get_ipython().system_raw('./ngrok http 4050 &')"
      ]
    },
    {
      "cell_type": "markdown",
      "metadata": {
        "id": "yA7Tp8NH-kn9"
      },
      "source": [
        "Get the url and open the site:"
      ]
    },
    {
      "cell_type": "code",
      "execution_count": null,
      "metadata": {
        "id": "bo1ucvDAt_qc"
      },
      "outputs": [],
      "source": [
        "!curl -s http://localhost:4040/api/tunnels | grep -Po 'public_url\":\"(?=https)\\K[^\"]*'"
      ]
    },
    {
      "cell_type": "markdown",
      "metadata": {},
      "source": [
        "Kaggle:"
      ]
    },
    {
      "cell_type": "code",
      "execution_count": null,
      "metadata": {
        "id": "j52YZNio3yRW"
      },
      "outputs": [],
      "source": [
        "! pip install -q kaggle"
      ]
    },
    {
      "cell_type": "markdown",
      "metadata": {
        "id": "GjqtAljwSMSs"
      },
      "source": [
        "Upload your kaggle.json file with your token here:"
      ]
    },
    {
      "cell_type": "code",
      "execution_count": null,
      "metadata": {
        "colab": {
          "base_uri": "https://localhost:8080/",
          "height": 90
        },
        "id": "RiBaWk3_RVsu",
        "outputId": "48280bc5-5d77-4dd7-8135-aa5ba4c6e42c"
      },
      "outputs": [],
      "source": [
        "from google.colab import files\n",
        "files.upload()\n",
        "!mkdir ~/.kaggle\n",
        "!cp kaggle.json ~/.kaggle/\n",
        "!ls ~/.kaggle\n",
        "! chmod 600 ~/.kaggle/kaggle.json"
      ]
    },
    {
      "cell_type": "markdown",
      "metadata": {},
      "source": [
        "# Work"
      ]
    },
    {
      "cell_type": "markdown",
      "metadata": {
        "id": "3XB_waGMUQSI"
      },
      "source": [
        "Let us start our project "
      ]
    },
    {
      "cell_type": "code",
      "execution_count": 27,
      "metadata": {},
      "outputs": [],
      "source": [
        "!kaggle datasets list | grep -i \"marvel\""
      ]
    },
    {
      "cell_type": "markdown",
      "metadata": {},
      "source": [
        "**My project will be to make a Exploratory Data Analysis to find out which of DCEU or Marvel makes the best Super hero movies**\n",
        "\n",
        "Will we start by downloading the datasets from Kaggle\n",
        "\n",
        "Honestly I'm more of a DC Fan "
      ]
    },
    {
      "cell_type": "markdown",
      "metadata": {},
      "source": [
        "![Sample Image](https://www.micromania.fr/on/demandware.static/-/Sites-Micromania-Library/default/dwc2760e97/fanzone/dossier/marvel-vs-dc/marvel-vs-dc_Header.jpg)\n"
      ]
    },
    {
      "cell_type": "code",
      "execution_count": 16,
      "metadata": {},
      "outputs": [
        {
          "name": "stdout",
          "output_type": "stream",
          "text": [
            "Downloading mcu-complete-dataset.zip to /Users/tequan/Desktop/Cours ISEN/Hadoop & Spark/Spark lab\n",
            "  0%|                                               | 0.00/2.25k [00:00<?, ?B/s]\n",
            "100%|██████████████████████████████████████| 2.25k/2.25k [00:00<00:00, 7.62MB/s]\n",
            "Downloading dceu-box-office-and-rating-dataset.zip to /Users/tequan/Desktop/Cours ISEN/Hadoop & Spark/Spark lab\n",
            "  0%|                                                 | 0.00/889 [00:00<?, ?B/s]\n",
            "100%|██████████████████████████████████████████| 889/889 [00:00<00:00, 3.17MB/s]\n"
          ]
        }
      ],
      "source": [
        "!kaggle datasets download -d rachit239/mcu-complete-dataset\n",
        "!kaggle datasets download -d kagankoral/dceu-box-office-and-rating-dataset"
      ]
    },
    {
      "cell_type": "code",
      "execution_count": 17,
      "metadata": {},
      "outputs": [
        {
          "name": "stdout",
          "output_type": "stream",
          "text": [
            "Archive:  mcu-complete-dataset.zip\n",
            "  inflating: project-data/mcu dataset.csv  \n",
            "Archive:  dceu-box-office-and-rating-dataset.zip\n",
            "  inflating: project-data/dceu_box_office_and_rating.csv  \n"
          ]
        }
      ],
      "source": [
        "#Unzip both datasets\n",
        "!unzip mcu-complete-dataset.zip -d project-data\n",
        "!unzip dceu-box-office-and-rating-dataset.zip -d project-data"
      ]
    },
    {
      "cell_type": "markdown",
      "metadata": {},
      "source": [
        "I will first read the datasets to have a view of the data and decide on which schema to implement"
      ]
    },
    {
      "cell_type": "code",
      "execution_count": 3,
      "metadata": {},
      "outputs": [],
      "source": [
        "dceu = spark.read.option(\"header\",\"true\").csv('project-data/dceu_box_office_and_rating.csv')\n",
        "mcu = spark.read.option(\"header\",\"true\").csv('project-data/mcu dataset.csv')"
      ]
    },
    {
      "cell_type": "code",
      "execution_count": 4,
      "metadata": {},
      "outputs": [
        {
          "name": "stdout",
          "output_type": "stream",
          "text": [
            "+--------------------+-----------------+---------------+----------+------------+-------------------+----+---------+-----------+--------------+\n",
            "|         movie_title|     release_date|duration (mins)|budget ($)|US_gross ($)|worldwide_gross ($)|imdb|metascore|tomatometer|audience_score|\n",
            "+--------------------+-----------------+---------------+----------+------------+-------------------+----+---------+-----------+--------------+\n",
            "|        Man of Steel|    June 14, 2013|            143| 225000000|   291045518|          668045518| 7.1|       55|         56|            75|\n",
            "|Batman v Superman...|   March 25, 2016|            152| 250000000|   330360194|          873637528| 6.4|       44|         29|            63|\n",
            "|       Suicide Squad|   August 5, 2016|            123| 175000000|   325100054|          746846894| 5.9|       40|         26|            58|\n",
            "|        Wonder Woman|     June 2, 2017|            141| 149000000|   412845172|          822854286| 7.4|       76|         93|            83|\n",
            "|      Justice League|November 17, 2017|            120| 300000000|   229024295|          657926987| 6.1|       45|         39|            67|\n",
            "|             Aquaman|December 21, 2018|            143| 200000000|   335104314|         1148528393| 6.8|       55|         65|            72|\n",
            "|             Shazam!|    April 5, 2019|            132| 100000000|   140480049|          367799011| 7.0|       71|         90|            82|\n",
            "|Birds of Prey (an...| February 7, 2020|            109|  85000000|    84172791|          205372791| 6.1|       60|         79|            78|\n",
            "|   Wonder Woman 1984|December 25, 2020|            151| 200000000|    46801036|          169601036| 5.4|       60|         58|            73|\n",
            "|   The Suicide Squad|   August 5, 2021|            132| 185000000|    55817425|          168717425| 7.2|       72|         90|            82|\n",
            "|          Black Adam| October 21, 2022|            124| 195000000|   168152111|          393252111| 6.3|       41|         38|            88|\n",
            "|Shazam! Fury of t...|   March 17, 2023|            130| 125000000|    57638006|          133783006| 6.0|       47|         49|            86|\n",
            "|           The Flash|    June 16, 2023|            144| 200000000|   102944835|          249144835| 7.2|       56|         64|            84|\n",
            "+--------------------+-----------------+---------------+----------+------------+-------------------+----+---------+-----------+--------------+\n",
            "\n"
          ]
        }
      ],
      "source": [
        "dceu.show()"
      ]
    },
    {
      "cell_type": "code",
      "execution_count": 5,
      "metadata": {},
      "outputs": [
        {
          "name": "stdout",
          "output_type": "stream",
          "text": [
            "+--------------------+-----------------+--------------------+--------------------+--------+--------------------+-----------+---------+--------------------+------------+--------------+--------------+-------------+----------------+---------+-----+\n",
            "|                Name|  US release Date|            Director|            Producer|Duration|               Genre|IMDB rating|metascore|                Cast|      Budget|Domestic Gross|   Total Gross|Opening Gross|Oscar Nomination|Oscar won|Phase|\n",
            "+--------------------+-----------------+--------------------+--------------------+--------+--------------------+-----------+---------+--------------------+------------+--------------+--------------+-------------+----------------+---------+-----+\n",
            "|            Iron Man|      May 2, 2008|         Jon Favreau|Avi Arad and Kevi...| 2h 6min|Action , Adventur...|        7.9|       79|Robert Downey Jr....|$140,000,000|  $318,604,126|  $585,366,247|  $98,618,668|               2|        0|    1|\n",
            "| The incredible Hulk|    June 13, 2008|     Louis Leterrier|Avi Arad ,Gale An...|1h 52min|Action , Adventur...|        6.6|       61|Edward Norton , L...|$150,000,000|  $134,806,913|  $264,770,996|  $55,414,050|               0|        0|    1|\n",
            "|          Iron Man 2|      May 7, 2010|         Jon Favreau|         Kevin Feige| 2h 4min|Action , Adventur...|          7|       57|Robert Downey Jr....|$200,000,000|  $312,433,331|  $623,933,331| $128,122,480|               1|        0|    1|\n",
            "|                Thor|      May 6, 2011|     Kenneth Branagh|         Kevin Feige|1h 55min|Action , Adventur...|          7|       57|Chris Hemsworth ,...|$150,000,000|  $181,030,624|  $449,326,618|  $65,723,338|               0|        0|    1|\n",
            "|Captain America: ...|    July 22, 2011|        Joe Jhonston|         Kevin Feige| 2h 4min|Action , Adventur...|        6.9|       66|Chris Evans ,  Hu...|$140,000,000|  $176,654,505|  $370,569,774|  $65,058,524|               0|        0|    1|\n",
            "|Marvel's the Aven...|      May 4, 2012|         Joss Whedon|         Kevin Feige|2h 23min|Action , Adventur...|          8|       69|Robert Downey Jr....|$220,000,000|  $623,357,910|$1,518,812,988| $207,438,708|               1|        0|    1|\n",
            "|          Iron Man 3|      May 3, 2013|         Shane Black|         Kevin Feige|2h 10min|Action , Adventur...|        7.1|       62|Robert Downey Jr....|$200,000,000|  $408,992,272|$1,214,811,252| $174,144,585|               1|        0|    2|\n",
            "|Thor: The dark world| November 8, 2013|         Alan Taylor|         Kevin Feige|1h 52min|Action , Adventur...|        6.8|       54|Chris Hemsworth ,...|$170,000,000|  $206,362,140|  $644,783,140|  $85,737,841|               0|        0|    2|\n",
            "|Captain America :...|    April 4, 2014|Anthony and Joe R...|         Kevin Feige|2h 16min|Action , Adventur...|        7.7|       70|Chris Evans , Sca...|$170,000,000|  $259,746,958|  $714,421,503|  $95,023,721|               1|        0|    2|\n",
            "|Guardians Of the ...|   August 1, 2014|          James Gunn|         Kevin Feige| 2h 1min|Action, Adventure...|          8|       76|Chris Patt , Vin ...|$170,000,000|  $333,714,112|  $772,776,600|  $94,320,883|               2|        0|    2|\n",
            "|Avengers : Age of...|      May 1, 2015|         Joss Whedon|         Kevin Feige|2h 21min|Action , Adventur...|        7.3|       66|Robert Downey Jr....|$250,000,000|  $459,005,868|$1,402,805,868| $191,271,109|               0|        0|    2|\n",
            "|             Ant-Man|    July 17, 2015|         Peyton Reed|         Kevin Feige|1h 57min|Action, Adventure...|        7.3|       64|Paul Rudd , Micha...|$130,000,000|  $180,202,163|  $519,311,965|  $57,225,526|               0|        0|    2|\n",
            "|Captain America: ...|      May 6, 2016|Anthony and Joe R...|         Kevin Feige|2h 27min|Action , Adventur...|        7.8|       75|Robert Downey Jr....|$250,000,000|  $408,084,349|$1,153,296,293| $179,139,142|               0|        0|    3|\n",
            "|     Doctor Strange | November 4, 2016|    Scott Derrickson|         Kevin Feige|1h 55min|Action , Adventur...|        7.5|       72|Benedict Cumberba...|$165,000,000|  $232,641,920|  $677,718,395|  $85,058,311|               1|        0|    3|\n",
            "|Guardians of the ...|      May 5, 2017|          James Gunn|         Kevin Feige|2h 16min|Action, Adventure...|        7.6|       67|Chris Patt ,  Zoe...|$200,000,000|  $389,813,101|  $863,756,051| $146,510,104|               1|        0|    3|\n",
            "|Spider-Man:Homeco...|     July 7, 2017|           Jon Watts|Kevin Feige and A...|2h 13min|Action , Adventur...|        7.4|       73|Tom Holland , Mic...|$175,000,000|  $334,201,140|  $880,166,924| $117,027,503|               0|        0|    3|\n",
            "|       Thor:Ragnarok| November 3, 2017|       Taika Waititi|         Kevin Feige|2h 10min|Action, Adventure...|        7.9|       74|Chris Hemsworth ,...|$180,000,000|   $315,058,28|  $853,977,126| $122,744,989|               0|        0|    3|\n",
            "|       Black Panther|February 16, 2018|        Ryan Coogler|         Kevin Feige|2h 14min|Action , Adventur...|        7.3|       88|Chadwick Boseman ...|$200,000,000|   $700,059,56|$1,346,913,161| $202,003,951|               7|        3|    3|\n",
            "|Avengers: Infinit...|   April 27, 2018|Anthony and Joe R...|         Kevin Feige|2h 29min|Action , Adventur...|        8.4|       68|Robert Downey Jr....|$300,000,000|  $678,815,482|$2,048,359,754| $257,698,183|               1|        0|    3|\n",
            "|Ant-Man and the Wasp|     July 6, 2018|         Peyton Reed|Kevin Feige and S...|1h 58min|Action, Adventure...|          7|       70|Paul Rudd , Evang...|$130,000,000|  $216,648,740|  $622,674,139|  $75,812,205|               0|        0|    3|\n",
            "+--------------------+-----------------+--------------------+--------------------+--------+--------------------+-----------+---------+--------------------+------------+--------------+--------------+-------------+----------------+---------+-----+\n",
            "only showing top 20 rows\n",
            "\n"
          ]
        }
      ],
      "source": [
        "mcu.show()"
      ]
    },
    {
      "cell_type": "markdown",
      "metadata": {},
      "source": [
        "I will then get a glimpse of the default schema to see which data types to change"
      ]
    },
    {
      "cell_type": "code",
      "execution_count": 6,
      "metadata": {},
      "outputs": [
        {
          "name": "stdout",
          "output_type": "stream",
          "text": [
            "root\n",
            " |-- movie_title: string (nullable = true)\n",
            " |-- release_date: string (nullable = true)\n",
            " |-- duration (mins): string (nullable = true)\n",
            " |-- budget ($): string (nullable = true)\n",
            " |-- US_gross ($): string (nullable = true)\n",
            " |-- worldwide_gross ($): string (nullable = true)\n",
            " |-- imdb: string (nullable = true)\n",
            " |-- metascore: string (nullable = true)\n",
            " |-- tomatometer: string (nullable = true)\n",
            " |-- audience_score: string (nullable = true)\n",
            "\n",
            "root\n",
            " |-- Name: string (nullable = true)\n",
            " |-- US release Date: string (nullable = true)\n",
            " |-- Director: string (nullable = true)\n",
            " |-- Producer: string (nullable = true)\n",
            " |-- Duration: string (nullable = true)\n",
            " |-- Genre: string (nullable = true)\n",
            " |-- IMDB rating: string (nullable = true)\n",
            " |-- metascore: string (nullable = true)\n",
            " |-- Cast: string (nullable = true)\n",
            " |-- Budget: string (nullable = true)\n",
            " |-- Domestic Gross: string (nullable = true)\n",
            " |-- Total Gross: string (nullable = true)\n",
            " |-- Opening Gross: string (nullable = true)\n",
            " |-- Oscar Nomination: string (nullable = true)\n",
            " |-- Oscar won: string (nullable = true)\n",
            " |-- Phase: string (nullable = true)\n",
            "\n"
          ]
        }
      ],
      "source": [
        "dceu.printSchema()\n",
        "mcu.printSchema()"
      ]
    },
    {
      "cell_type": "markdown",
      "metadata": {},
      "source": [
        "I will declare the schema for both datasets manually. \n",
        "\n",
        "**!!!!Remark** : Some columns contain mixed data types(budget with the $ symbol) and the date column is written as a string. We will declare the schema for clean columns and the manually  cast the desired data types to the columns that need to be cleaned first"
      ]
    },
    {
      "cell_type": "code",
      "execution_count": 8,
      "metadata": {},
      "outputs": [
        {
          "name": "stdout",
          "output_type": "stream",
          "text": [
            "root\n",
            " |-- movie_title: string (nullable = true)\n",
            " |-- release_date: string (nullable = true)\n",
            " |-- duration (mins): integer (nullable = true)\n",
            " |-- budget ($): float (nullable = true)\n",
            " |-- US_gross ($): float (nullable = true)\n",
            " |-- worldwide_gross ($): float (nullable = true)\n",
            " |-- imdb: double (nullable = true)\n",
            " |-- metascore: integer (nullable = true)\n",
            " |-- tomatometer: integer (nullable = true)\n",
            " |-- audience_score: integer (nullable = true)\n",
            "\n"
          ]
        }
      ],
      "source": [
        "dceuschema = StructType(\n",
        "    [\n",
        "        StructField('movie_title',   StringType(),  True),\n",
        "        StructField('release_date', StringType(),  True),\n",
        "        StructField('duration (mins)',   IntegerType(), True),\n",
        "        StructField('budget ($)', FloatType(), True),\n",
        "        StructField('US_gross ($)',       FloatType(),  True),\n",
        "        StructField('worldwide_gross ($)',      FloatType(),  True),\n",
        "        StructField('imdb',      DoubleType(),  True),\n",
        "        StructField('metascore',     IntegerType(),  True),\n",
        "        StructField('tomatometer',      IntegerType(),  True),\n",
        "        StructField('audience_score',      IntegerType(),  True)\n",
        "    ]\n",
        ")\n",
        "\n",
        "dceu = spark.read.option(\"header\",\"true\").schema(dceuschema).csv('project-data/dceu_box_office_and_rating.csv')\n",
        "dceu.printSchema()"
      ]
    },
    {
      "cell_type": "code",
      "execution_count": 9,
      "metadata": {},
      "outputs": [
        {
          "name": "stdout",
          "output_type": "stream",
          "text": [
            "root\n",
            " |-- Name: string (nullable = true)\n",
            " |-- US release Date: string (nullable = true)\n",
            " |-- Director: string (nullable = true)\n",
            " |-- Producer: string (nullable = true)\n",
            " |-- Duration: string (nullable = true)\n",
            " |-- Genre: string (nullable = true)\n",
            " |-- IMDB rating: double (nullable = true)\n",
            " |-- metascore: integer (nullable = true)\n",
            " |-- Cast: string (nullable = true)\n",
            " |-- Budget: string (nullable = true)\n",
            " |-- Domestic Gross: string (nullable = true)\n",
            " |-- Total Gross: string (nullable = true)\n",
            " |-- Opening Gross: string (nullable = true)\n",
            " |-- Oscar Nomination: integer (nullable = true)\n",
            " |-- Oscar won: integer (nullable = true)\n",
            " |-- Phase: integer (nullable = true)\n",
            "\n"
          ]
        }
      ],
      "source": [
        "mcuschema = StructType(\n",
        "    [\n",
        "        StructField('Name',   StringType(),  True),\n",
        "        StructField('US release Date', StringType(),  True),\n",
        "        StructField('Director',   StringType(), True),\n",
        "        StructField('Producer', StringType(), True),\n",
        "        StructField('Duration',       StringType(),  True),\n",
        "        StructField('Genre',       StringType(),  True),\n",
        "        StructField('IMDB rating',      DoubleType(),  True),\n",
        "        StructField('metascore',      IntegerType(),  True),\n",
        "        StructField('Cast',      StringType(),  True),\n",
        "        StructField('Budget',      StringType(),  True),\n",
        "        StructField('Domestic Gross',      StringType(),  True),\n",
        "        StructField('Total Gross',      StringType(),  True),\n",
        "        StructField('Opening Gross',      StringType(),  True),\n",
        "        StructField('Oscar Nomination',      IntegerType(),  True),\n",
        "        StructField('Oscar won',      IntegerType(),  True),\n",
        "        StructField('Phase',     IntegerType(),  True)\n",
        "    ]\n",
        ")\n",
        "\n",
        "mcu = spark.read.option(\"header\", \"true\").schema(mcuschema).csv('project-data/mcu dataset.csv')\n",
        "mcu.printSchema()"
      ]
    },
    {
      "cell_type": "markdown",
      "metadata": {},
      "source": [
        "Let's start by converting the dates"
      ]
    },
    {
      "cell_type": "code",
      "execution_count": 10,
      "metadata": {},
      "outputs": [
        {
          "name": "stdout",
          "output_type": "stream",
          "text": [
            "root\n",
            " |-- movie_title: string (nullable = true)\n",
            " |-- release_date: timestamp (nullable = true)\n",
            " |-- duration (mins): integer (nullable = true)\n",
            " |-- budget ($): float (nullable = true)\n",
            " |-- US_gross ($): float (nullable = true)\n",
            " |-- worldwide_gross ($): float (nullable = true)\n",
            " |-- imdb: double (nullable = true)\n",
            " |-- metascore: integer (nullable = true)\n",
            " |-- tomatometer: integer (nullable = true)\n",
            " |-- audience_score: integer (nullable = true)\n",
            "\n"
          ]
        }
      ],
      "source": [
        "dceu = dceu.withColumn(\"release_date\", to_date(dceu[\"release_date\"], \"MMMM d, yyyy\").cast(DateType()))\n",
        "mcu = mcu.withColumn(\"US release Date\", to_date(mcu[\"US release Date\"], \"MMMM d, yyyy\").cast(DateType()))\n",
        "\n",
        "#Now our schema is as needed for the dceu dataframe\n",
        "dceu.printSchema()"
      ]
    },
    {
      "cell_type": "markdown",
      "metadata": {},
      "source": [
        "For the MCU dataframe, we will convert the duration column to an integer using a User-defined function(UDF) and the clean the budget and all money related columns"
      ]
    },
    {
      "cell_type": "code",
      "execution_count": 11,
      "metadata": {},
      "outputs": [],
      "source": [
        "def duration_to_minutes(duration_str):\n",
        "    \n",
        "    match = re.search(r'(\\d+)h ?(\\d+)min', duration_str)\n",
        "    if match:\n",
        "        \n",
        "        hours = int(match.group(1))\n",
        "        minutes = int(match.group(2))\n",
        "        total_minutes = hours * 60 + minutes\n",
        "        return total_minutes\n",
        "    else:\n",
        "        \n",
        "        return None\n",
        "\n",
        "minutes_udf = udf(duration_to_minutes, IntegerType())\n",
        "mcu = mcu.withColumn(\"Duration\", minutes_udf(mcu[\"Duration\"]))\n"
      ]
    },
    {
      "cell_type": "code",
      "execution_count": 12,
      "metadata": {},
      "outputs": [
        {
          "name": "stderr",
          "output_type": "stream",
          "text": [
            "[Stage 30:>                                                         (0 + 1) / 1]\r"
          ]
        },
        {
          "name": "stdout",
          "output_type": "stream",
          "text": [
            "+--------------------+-------------------+--------------------+--------------------+--------+--------------------+-----------+---------+--------------------+------+--------------+-----------+-------------+----------------+---------+-----+\n",
            "|                Name|    US release Date|            Director|            Producer|Duration|               Genre|IMDB rating|metascore|                Cast|Budget|Domestic Gross|Total Gross|Opening Gross|Oscar Nomination|Oscar won|Phase|\n",
            "+--------------------+-------------------+--------------------+--------------------+--------+--------------------+-----------+---------+--------------------+------+--------------+-----------+-------------+----------------+---------+-----+\n",
            "|            Iron Man|2008-05-02 00:00:00|         Jon Favreau|Avi Arad and Kevi...|     126|Action , Adventur...|        7.9|       79|Robert Downey Jr....| 1.4E8|   3.1860413E8| 5.853663E8|   9.861867E7|               2|        0|    1|\n",
            "| The incredible Hulk|2008-06-13 00:00:00|     Louis Leterrier|Avi Arad ,Gale An...|     112|Action , Adventur...|        6.6|       61|Edward Norton , L...| 1.5E8|   1.3480691E8|2.6477099E8|   5.541405E7|               0|        0|    1|\n",
            "|          Iron Man 2|2010-05-07 00:00:00|         Jon Favreau|         Kevin Feige|     124|Action , Adventur...|        7.0|       57|Robert Downey Jr....| 2.0E8|   3.1243334E8| 6.239333E8|  1.2812248E8|               1|        0|    1|\n",
            "|                Thor|2011-05-06 00:00:00|     Kenneth Branagh|         Kevin Feige|     115|Action , Adventur...|        7.0|       57|Chris Hemsworth ,...| 1.5E8|   1.8103062E8|4.4932662E8|  6.5723336E7|               0|        0|    1|\n",
            "|Captain America: ...|2011-07-22 00:00:00|        Joe Jhonston|         Kevin Feige|     124|Action , Adventur...|        6.9|       66|Chris Evans ,  Hu...| 1.4E8|   1.7665451E8|3.7056976E8|  6.5058524E7|               0|        0|    1|\n",
            "|Marvel's the Aven...|2012-05-04 00:00:00|         Joss Whedon|         Kevin Feige|     143|Action , Adventur...|        8.0|       69|Robert Downey Jr....| 2.2E8|    6.233579E8|1.5188129E9|   2.074387E8|               1|        0|    1|\n",
            "|          Iron Man 3|2013-05-03 00:00:00|         Shane Black|         Kevin Feige|     130|Action , Adventur...|        7.1|       62|Robert Downey Jr....| 2.0E8|   4.0899226E8|1.2148113E9|  1.7414459E8|               1|        0|    2|\n",
            "|Thor: The dark world|2013-11-08 00:00:00|         Alan Taylor|         Kevin Feige|     112|Action , Adventur...|        6.8|       54|Chris Hemsworth ,...| 1.7E8|   2.0636214E8|6.4478317E8|   8.573784E7|               0|        0|    2|\n",
            "|Captain America :...|2014-04-04 00:00:00|Anthony and Joe R...|         Kevin Feige|     136|Action , Adventur...|        7.7|       70|Chris Evans , Sca...| 1.7E8|   2.5974696E8| 7.144215E8|   9.502372E7|               1|        0|    2|\n",
            "|Guardians Of the ...|2014-08-01 00:00:00|          James Gunn|         Kevin Feige|     121|Action, Adventure...|        8.0|       76|Chris Patt , Vin ...| 1.7E8|    3.337141E8| 7.727766E8|   9.432088E7|               2|        0|    2|\n",
            "|Avengers : Age of...|2015-05-01 00:00:00|         Joss Whedon|         Kevin Feige|     141|Action , Adventur...|        7.3|       66|Robert Downey Jr....| 2.5E8|   4.5900586E8|1.4028059E9|   1.912711E8|               0|        0|    2|\n",
            "|             Ant-Man|2015-07-17 00:00:00|         Peyton Reed|         Kevin Feige|     117|Action, Adventure...|        7.3|       64|Paul Rudd , Micha...| 1.3E8|   1.8020216E8|5.1931197E8|   5.722553E7|               0|        0|    2|\n",
            "|Captain America: ...|2016-05-06 00:00:00|Anthony and Joe R...|         Kevin Feige|     147|Action , Adventur...|        7.8|       75|Robert Downey Jr....| 2.5E8|   4.0808435E8|1.1532963E9|  1.7913914E8|               0|        0|    3|\n",
            "|     Doctor Strange |2016-11-04 00:00:00|    Scott Derrickson|         Kevin Feige|     115|Action , Adventur...|        7.5|       72|Benedict Cumberba...|1.65E8|   2.3264192E8| 6.777184E8|   8.505831E7|               1|        0|    3|\n",
            "|Guardians of the ...|2017-05-05 00:00:00|          James Gunn|         Kevin Feige|     136|Action, Adventure...|        7.6|       67|Chris Patt ,  Zoe...| 2.0E8|    3.898131E8|  8.63756E8|  1.4651011E8|               1|        0|    3|\n",
            "|Spider-Man:Homeco...|2017-07-07 00:00:00|           Jon Watts|Kevin Feige and A...|     133|Action , Adventur...|        7.4|       73|Tom Holland , Mic...|1.75E8|   3.3420115E8| 8.801669E8|   1.170275E8|               0|        0|    3|\n",
            "|       Thor:Ragnarok|2017-11-03 00:00:00|       Taika Waititi|         Kevin Feige|     130|Action, Adventure...|        7.9|       74|Chris Hemsworth ,...| 1.8E8|   3.1505828E7|8.5397715E8|  1.2274499E8|               0|        0|    3|\n",
            "|       Black Panther|2018-02-16 00:00:00|        Ryan Coogler|         Kevin Feige|     134|Action , Adventur...|        7.3|       88|Chadwick Boseman ...| 2.0E8|    7.000595E7|1.3469132E9|  2.0200395E8|               7|        3|    3|\n",
            "|Avengers: Infinit...|2018-04-27 00:00:00|Anthony and Joe R...|         Kevin Feige|     149|Action , Adventur...|        8.4|       68|Robert Downey Jr....| 3.0E8|    6.788155E8|2.0483598E9|  2.5769818E8|               1|        0|    3|\n",
            "|Ant-Man and the Wasp|2018-07-06 00:00:00|         Peyton Reed|Kevin Feige and S...|     118|Action, Adventure...|        7.0|       70|Paul Rudd , Evang...| 1.3E8|   2.1664874E8| 6.226741E8|   7.581221E7|               0|        0|    3|\n",
            "+--------------------+-------------------+--------------------+--------------------+--------+--------------------+-----------+---------+--------------------+------+--------------+-----------+-------------+----------------+---------+-----+\n",
            "only showing top 20 rows\n",
            "\n"
          ]
        },
        {
          "name": "stderr",
          "output_type": "stream",
          "text": [
            "                                                                                \r"
          ]
        }
      ],
      "source": [
        "column = ['Budget', 'Domestic Gross','Total Gross', 'Opening Gross']\n",
        "for col in column:\n",
        "    mcu = mcu.withColumn(col, regexp_replace(col, \"[$,]\", \"\").cast(FloatType()))\n",
        "    \n",
        "mcu.show()"
      ]
    },
    {
      "cell_type": "code",
      "execution_count": 13,
      "metadata": {},
      "outputs": [
        {
          "name": "stdout",
          "output_type": "stream",
          "text": [
            "root\n",
            " |-- Name: string (nullable = true)\n",
            " |-- US release Date: timestamp (nullable = true)\n",
            " |-- Director: string (nullable = true)\n",
            " |-- Producer: string (nullable = true)\n",
            " |-- Duration: integer (nullable = true)\n",
            " |-- Genre: string (nullable = true)\n",
            " |-- IMDB rating: double (nullable = true)\n",
            " |-- metascore: integer (nullable = true)\n",
            " |-- Cast: string (nullable = true)\n",
            " |-- Budget: float (nullable = true)\n",
            " |-- Domestic Gross: float (nullable = true)\n",
            " |-- Total Gross: float (nullable = true)\n",
            " |-- Opening Gross: float (nullable = true)\n",
            " |-- Oscar Nomination: integer (nullable = true)\n",
            " |-- Oscar won: integer (nullable = true)\n",
            " |-- Phase: integer (nullable = true)\n",
            "\n"
          ]
        }
      ],
      "source": [
        "mcu.printSchema()"
      ]
    },
    {
      "cell_type": "code",
      "execution_count": 14,
      "metadata": {},
      "outputs": [],
      "source": [
        "# We will rename columns to match both dataframes for join purpose\n",
        "\n",
        "mcu = (\n",
        "        mcu\n",
        "                        .withColumnRenamed(\"Name\", \"Movie Title\")\n",
        "                        .withColumnRenamed(\"US release Date\", \"Released Date\")\n",
        "                        .withColumnRenamed(\"Duration\", \"Duration (mins)\")\n",
        "               ) \n",
        "dceu = (\n",
        "        dceu\n",
        "                .withColumnRenamed(\"movie_title\", \"Movie Title\")\n",
        "                .withColumnRenamed(\"release_date\", \"Released Date\")\n",
        "                .withColumnRenamed(\"duration (mins)\", \"Duration (mins)\")\n",
        "                .withColumnRenamed(\"budget ($)\", \"Budget\")\n",
        "                .withColumnRenamed(\"US_gross ($)\", \"Domestic Gross\")\n",
        "                .withColumnRenamed(\"worldwide_gross ($)\", \"Total Gross\")\n",
        "                .withColumnRenamed(\"imdb\", \"IMDB rating\")\n",
        "                .withColumnRenamed(\"audience_score\", \"Audience Score\")\n",
        ")\n",
        "#add column for studio info \n",
        "mcu = mcu.withColumn(\"Studio\", lit(\"Marvel\"))\n",
        "dceu = dceu.withColumn(\"Studio\", lit(\"DC comics\"))"
      ]
    },
    {
      "cell_type": "markdown",
      "metadata": {},
      "source": [
        "We will add the different Directors and producers for the Dceu Dataframe"
      ]
    },
    {
      "cell_type": "code",
      "execution_count": 16,
      "metadata": {},
      "outputs": [
        {
          "name": "stdout",
          "output_type": "stream",
          "text": [
            "root\n",
            " |-- Movie Title: string (nullable = true)\n",
            " |-- Released Date: timestamp (nullable = true)\n",
            " |-- Director: string (nullable = true)\n",
            " |-- Producer: string (nullable = true)\n",
            " |-- Duration (mins): integer (nullable = true)\n",
            " |-- Genre: string (nullable = true)\n",
            " |-- IMDB rating: double (nullable = true)\n",
            " |-- metascore: integer (nullable = true)\n",
            " |-- Cast: string (nullable = true)\n",
            " |-- Budget: float (nullable = true)\n",
            " |-- Domestic Gross: float (nullable = true)\n",
            " |-- Total Gross: float (nullable = true)\n",
            " |-- Opening Gross: float (nullable = true)\n",
            " |-- Oscar Nomination: integer (nullable = true)\n",
            " |-- Oscar won: integer (nullable = true)\n",
            " |-- Phase: integer (nullable = true)\n",
            " |-- Studio: string (nullable = false)\n",
            "\n",
            "root\n",
            " |-- Movie Title: string (nullable = true)\n",
            " |-- Released Date: timestamp (nullable = true)\n",
            " |-- Duration (mins): integer (nullable = true)\n",
            " |-- Budget: float (nullable = true)\n",
            " |-- Domestic Gross: float (nullable = true)\n",
            " |-- Total Gross: float (nullable = true)\n",
            " |-- IMDB rating: double (nullable = true)\n",
            " |-- metascore: integer (nullable = true)\n",
            " |-- tomatometer: integer (nullable = true)\n",
            " |-- Audience Score: integer (nullable = true)\n",
            " |-- Studio: string (nullable = false)\n",
            "\n"
          ]
        }
      ],
      "source": [
        "mcu.printSchema()\n",
        "dceu.printSchema()"
      ]
    },
    {
      "cell_type": "code",
      "execution_count": 17,
      "metadata": {},
      "outputs": [
        {
          "name": "stdout",
          "output_type": "stream",
          "text": [
            "+--------------------+-------------------+---------------+------+--------------+-----------+-----------+---------+-----------+--------------+---------+\n",
            "|         Movie Title|      Released Date|Duration (mins)|Budget|Domestic Gross|Total Gross|IMDB rating|metascore|tomatometer|Audience Score|   Studio|\n",
            "+--------------------+-------------------+---------------+------+--------------+-----------+-----------+---------+-----------+--------------+---------+\n",
            "|        Man of Steel|2013-06-14 00:00:00|            143|2.25E8|    2.910455E8| 6.680455E8|        7.1|       55|         56|            75|DC comics|\n",
            "|Batman v Superman...|2016-03-25 00:00:00|            152| 2.5E8|    3.303602E8| 8.736375E8|        6.4|       44|         29|            63|DC comics|\n",
            "|       Suicide Squad|2016-08-05 00:00:00|            123|1.75E8|   3.2510006E8| 7.468469E8|        5.9|       40|         26|            58|DC comics|\n",
            "|        Wonder Woman|2017-06-02 00:00:00|            141|1.49E8|    4.128452E8| 8.228543E8|        7.4|       76|         93|            83|DC comics|\n",
            "|      Justice League|2017-11-17 00:00:00|            120| 3.0E8|   2.2902429E8|  6.57927E8|        6.1|       45|         39|            67|DC comics|\n",
            "|             Aquaman|2018-12-21 00:00:00|            143| 2.0E8|   3.3510432E8|1.1485284E9|        6.8|       55|         65|            72|DC comics|\n",
            "|             Shazam!|2019-04-05 00:00:00|            132| 1.0E8|   1.4048005E8|  3.67799E8|        7.0|       71|         90|            82|DC comics|\n",
            "|Birds of Prey (an...|2020-02-07 00:00:00|            109| 8.5E7|    8.417279E7|2.0537278E8|        6.1|       60|         79|            78|DC comics|\n",
            "|   Wonder Woman 1984|2020-12-25 00:00:00|            151| 2.0E8|   4.6801036E7|1.6960104E8|        5.4|       60|         58|            73|DC comics|\n",
            "|   The Suicide Squad|2021-08-05 00:00:00|            132|1.85E8|   5.5817424E7|1.6871742E8|        7.2|       72|         90|            82|DC comics|\n",
            "|          Black Adam|2022-10-21 00:00:00|            124|1.95E8|   1.6815211E8| 3.932521E8|        6.3|       41|         38|            88|DC comics|\n",
            "|Shazam! Fury of t...|2023-03-17 00:00:00|            130|1.25E8|    5.763801E7|1.3378301E8|        6.0|       47|         49|            86|DC comics|\n",
            "|           The Flash|2023-06-16 00:00:00|            144| 2.0E8|   1.0294483E8|2.4914483E8|        7.2|       56|         64|            84|DC comics|\n",
            "+--------------------+-------------------+---------------+------+--------------+-----------+-----------+---------+-----------+--------------+---------+\n",
            "\n"
          ]
        }
      ],
      "source": [
        "dceu.show()"
      ]
    },
    {
      "cell_type": "markdown",
      "metadata": {},
      "source": [
        "Alright, Now that our data is cleansed, We can start to perform some interesting things to get insights. "
      ]
    },
    {
      "cell_type": "code",
      "execution_count": 18,
      "metadata": {},
      "outputs": [
        {
          "name": "stdout",
          "output_type": "stream",
          "text": [
            "+--------------------+---------------+-------------+\n",
            "|            Director|Avg Total Gross|    Sum Gross|\n",
            "+--------------------+---------------+-------------+\n",
            "|Anthony and Joe R...|  1.678394752E9|6.713579008E9|\n",
            "|         Joss Whedon|  1.460809408E9|2.921618816E9|\n",
            "|           Jon Watts|  1.006047424E9|2.012094848E9|\n",
            "|          James Gunn|   8.18266304E8|1.636532608E9|\n",
            "|        Ryan Coogler|  1.346913152E9|1.346913152E9|\n",
            "|         Shane Black|  1.214811264E9|1.214811264E9|\n",
            "|         Jon Favreau|   6.04649792E8|1.209299584E9|\n",
            "|         Peyton Reed|    5.7099304E8| 1.14198608E9|\n",
            "|Anna Boden and Ry...|  1.128274816E9|1.128274816E9|\n",
            "|       Taika Waititi|   8.53977152E8| 8.53977152E8|\n",
            "|    Scott Derrickson|     6.777184E8|   6.777184E8|\n",
            "|         Alan Taylor|   6.44783168E8| 6.44783168E8|\n",
            "|     Kenneth Branagh|   4.49326624E8| 4.49326624E8|\n",
            "|        Joe Jhonston|    3.7056976E8|  3.7056976E8|\n",
            "|     Louis Leterrier|   2.64770992E8| 2.64770992E8|\n",
            "+--------------------+---------------+-------------+\n",
            "\n"
          ]
        }
      ],
      "source": [
        "mcugross = (\n",
        "    mcu\n",
        "      .groupBy('Director')\n",
        "      .agg(\n",
        "          avg(\"Total Gross\").alias(\"Avg Total Gross\"),\n",
        "          sum(\"Total Gross\").alias(\"Sum Gross\")\n",
        "      )\n",
        "      .orderBy(\"Sum Gross\", ascending=False)\n",
        ")\n",
        "mcugross.show()"
      ]
    },
    {
      "cell_type": "markdown",
      "metadata": {},
      "source": [
        "We will create 2 new columns for each dataframes, to determine the profit from domestic gross and Total gross"
      ]
    },
    {
      "cell_type": "code",
      "execution_count": 19,
      "metadata": {},
      "outputs": [],
      "source": [
        "from pyspark.sql.functions import col \n",
        "\n",
        "# Calculate and add \"Domestic profit\" column\n",
        "mcu = mcu.withColumn(\"Domestic profit\", col(\"Domestic Gross\") - col(\"Budget\"))\n",
        "dceu = dceu.withColumn(\"Domestic profit\", col(\"Domestic Gross\") - col(\"Budget\"))\n",
        "\n",
        "# Calculate and add \"Total profit\" column\n",
        "mcu = mcu.withColumn(\"Total profit\", col(\"Total Gross\") - col(\"Budget\"))\n",
        "dceu = dceu.withColumn(\"Total profit\", col(\"Total Gross\") - col(\"Budget\"))\n"
      ]
    },
    {
      "cell_type": "markdown",
      "metadata": {},
      "source": [
        "Let's Find out the movies that flopped in the domestic market (USA)"
      ]
    },
    {
      "cell_type": "code",
      "execution_count": 33,
      "metadata": {},
      "outputs": [
        {
          "name": "stdout",
          "output_type": "stream",
          "text": [
            "+-------------------+---------------+\n",
            "|        Movie Title|Domestic profit|\n",
            "+-------------------+---------------+\n",
            "|The incredible Hulk|   -1.5193088E7|\n",
            "|      Thor:Ragnarok|   -1.4849418E8|\n",
            "|      Black Panther|   -1.2999405E8|\n",
            "+-------------------+---------------+\n",
            "\n"
          ]
        },
        {
          "data": {
            "text/plain": [
              "3"
            ]
          },
          "execution_count": 33,
          "metadata": {},
          "output_type": "execute_result"
        }
      ],
      "source": [
        "filtered_mcu = mcu.filter(col(\"Domestic profit\") < 0)\n",
        "mu =filtered_mcu.select('Movie Title','Domestic profit')\n",
        "mu.show()\n",
        "mu.count()"
      ]
    },
    {
      "cell_type": "code",
      "execution_count": 32,
      "metadata": {},
      "outputs": [
        {
          "name": "stdout",
          "output_type": "stream",
          "text": [
            "+--------------------+---------------+------------+\n",
            "|         Movie Title|Domestic profit|Total profit|\n",
            "+--------------------+---------------+------------+\n",
            "|      Justice League|    -7.097571E7| 3.5792698E8|\n",
            "|Birds of Prey (an...|      -827208.0| 1.2037278E8|\n",
            "|   Wonder Woman 1984|   -1.5319896E8| -3.039896E7|\n",
            "|   The Suicide Squad|   -1.2918258E8|-1.6282576E7|\n",
            "|          Black Adam|   -2.6847888E7|  1.982521E8|\n",
            "|Shazam! Fury of t...|    -6.736199E7|   8783008.0|\n",
            "|           The Flash|    -9.705517E7|  4.914483E7|\n",
            "+--------------------+---------------+------------+\n",
            "\n"
          ]
        },
        {
          "data": {
            "text/plain": [
              "7"
            ]
          },
          "execution_count": 32,
          "metadata": {},
          "output_type": "execute_result"
        }
      ],
      "source": [
        "filtered_dceu = dceu.filter(col(\"Domestic profit\") < 0)\n",
        "dc =filtered_dceu.select('Movie Title','Domestic profit','Total profit')\n",
        "dc.show()\n",
        "dc.count()\n"
      ]
    },
    {
      "cell_type": "code",
      "execution_count": 64,
      "metadata": {},
      "outputs": [
        {
          "name": "stderr",
          "output_type": "stream",
          "text": [
            "/var/folders/x0/c8bzzfvd4g30hkht9qsxwpf40000gn/T/ipykernel_22715/111714967.py:23: UserWarning: Tight layout not applied. The bottom and top margins cannot be made large enough to accommodate all axes decorations.\n",
            "  plt.tight_layout()\n"
          ]
        },
        {
          "data": {
            "image/png": "[encoded data removed]",
            "text/plain": [
              "<Figure size 1200x400 with 2 Axes>"
            ]
          },
          "metadata": {},
          "output_type": "display_data"
        }
      ],
      "source": [
        "import matplotlib.pyplot as plt\n",
        "\n",
        "plt.figure(figsize=(12, 4))  \n",
        "\n",
        "\n",
        "plt.subplot(1, 2, 1)  \n",
        "pdf = mu.toPandas()\n",
        "pdf2 = dc.toPandas()\n",
        "plt.bar(pdf[\"Movie Title\"], pdf[\"Domestic profit\"] * -1)\n",
        "plt.xlabel(\"Movie Title\")\n",
        "plt.ylabel(\"Loss\")\n",
        "plt.title(\"Bar Plot for Domestic loss MCU\")\n",
        "plt.xticks(rotation=90)\n",
        "\n",
        "plt.subplot(1, 2, 2) \n",
        "\n",
        "plt.bar(pdf2[\"Movie Title\"], pdf2[\"Domestic profit\"]*-1)\n",
        "plt.xlabel(\"Movie Title\")\n",
        "plt.ylabel(\"Loss\")\n",
        "plt.title(\"Bar Plot for Another loss DCEU\")\n",
        "plt.xticks(rotation=90)\n",
        "# Adjust the layout to prevent overlapping labels\n",
        "plt.tight_layout()\n",
        "\n",
        "# Show the combined plot\n",
        "plt.show()\n"
      ]
    },
    {
      "cell_type": "markdown",
      "metadata": {},
      "source": [
        "It seems Marvel is 1-0 in our contest. Let's now find out which movies had the best ratings. We have 2 ratings but IMBD is the most objective."
      ]
    },
    {
      "cell_type": "code",
      "execution_count": 38,
      "metadata": {},
      "outputs": [
        {
          "name": "stdout",
          "output_type": "stream",
          "text": [
            "+--------------------+-----------+---------+\n",
            "|         Movie Title|IMDB rating|metascore|\n",
            "+--------------------+-----------+---------+\n",
            "|Avengers: Infinit...|        8.4|       68|\n",
            "|    Avengers:Endgame|        8.4|       78|\n",
            "|Marvel's the Aven...|        8.0|       69|\n",
            "|Guardians Of the ...|        8.0|       76|\n",
            "|            Iron Man|        7.9|       79|\n",
            "|       Thor:Ragnarok|        7.9|       74|\n",
            "|Captain America: ...|        7.8|       75|\n",
            "+--------------------+-----------+---------+\n",
            "only showing top 7 rows\n",
            "\n"
          ]
        }
      ],
      "source": [
        "mcu.select('Movie Title','IMDB rating','metascore').orderBy('IMDB rating', ascending = False).show(7)"
      ]
    },
    {
      "cell_type": "code",
      "execution_count": 39,
      "metadata": {},
      "outputs": [
        {
          "name": "stdout",
          "output_type": "stream",
          "text": [
            "+--------------------+-----------+---------+\n",
            "|         Movie Title|IMDB rating|metascore|\n",
            "+--------------------+-----------+---------+\n",
            "|        Wonder Woman|        7.4|       76|\n",
            "|   The Suicide Squad|        7.2|       72|\n",
            "|           The Flash|        7.2|       56|\n",
            "|        Man of Steel|        7.1|       55|\n",
            "|             Shazam!|        7.0|       71|\n",
            "|             Aquaman|        6.8|       55|\n",
            "|Batman v Superman...|        6.4|       44|\n",
            "+--------------------+-----------+---------+\n",
            "only showing top 7 rows\n",
            "\n"
          ]
        }
      ],
      "source": [
        "dceu.select('Movie Title','IMDB rating','metascore').orderBy('IMDB rating', ascending = False).show(7)"
      ]
    },
    {
      "cell_type": "markdown",
      "metadata": {},
      "source": [
        "Another Clear Win for Marvel. 2-0. The highest ranked DCEU movie has a score of 7.2, it's not even among the MCU results."
      ]
    },
    {
      "cell_type": "markdown",
      "metadata": {},
      "source": [
        "We will complete our analysis by joining both dataframes and sorting them by category"
      ]
    },
    {
      "cell_type": "code",
      "execution_count": 55,
      "metadata": {},
      "outputs": [],
      "source": [
        "mceu = mcu.select('Movie Title','Released Date','Duration (mins)','Budget','Domestic Gross','Total Gross','IMDB rating','metascore','Studio')\n",
        "dcue = dceu.select('Movie Title','Released Date','Duration (mins)','Budget','Domestic Gross','Total Gross','IMDB rating','metascore','Studio')"
      ]
    },
    {
      "cell_type": "code",
      "execution_count": 58,
      "metadata": {},
      "outputs": [
        {
          "name": "stdout",
          "output_type": "stream",
          "text": [
            "+--------------------+-------------------+---------------+------+--------------+-----------+-----------+---------+---------+\n",
            "|         Movie Title|      Released Date|Duration (mins)|Budget|Domestic Gross|Total Gross|IMDB rating|metascore|   Studio|\n",
            "+--------------------+-------------------+---------------+------+--------------+-----------+-----------+---------+---------+\n",
            "|            Iron Man|2008-05-02 00:00:00|            126| 1.4E8|   3.1860413E8| 5.853663E8|        7.9|       79|   Marvel|\n",
            "| The incredible Hulk|2008-06-13 00:00:00|            112| 1.5E8|   1.3480691E8|2.6477099E8|        6.6|       61|   Marvel|\n",
            "|          Iron Man 2|2010-05-07 00:00:00|            124| 2.0E8|   3.1243334E8| 6.239333E8|        7.0|       57|   Marvel|\n",
            "|                Thor|2011-05-06 00:00:00|            115| 1.5E8|   1.8103062E8|4.4932662E8|        7.0|       57|   Marvel|\n",
            "|Captain America: ...|2011-07-22 00:00:00|            124| 1.4E8|   1.7665451E8|3.7056976E8|        6.9|       66|   Marvel|\n",
            "|Marvel's the Aven...|2012-05-04 00:00:00|            143| 2.2E8|    6.233579E8|1.5188129E9|        8.0|       69|   Marvel|\n",
            "|          Iron Man 3|2013-05-03 00:00:00|            130| 2.0E8|   4.0899226E8|1.2148113E9|        7.1|       62|   Marvel|\n",
            "|Thor: The dark world|2013-11-08 00:00:00|            112| 1.7E8|   2.0636214E8|6.4478317E8|        6.8|       54|   Marvel|\n",
            "|Captain America :...|2014-04-04 00:00:00|            136| 1.7E8|   2.5974696E8| 7.144215E8|        7.7|       70|   Marvel|\n",
            "|Guardians Of the ...|2014-08-01 00:00:00|            121| 1.7E8|    3.337141E8| 7.727766E8|        8.0|       76|   Marvel|\n",
            "|Avengers : Age of...|2015-05-01 00:00:00|            141| 2.5E8|   4.5900586E8|1.4028059E9|        7.3|       66|   Marvel|\n",
            "|             Ant-Man|2015-07-17 00:00:00|            117| 1.3E8|   1.8020216E8|5.1931197E8|        7.3|       64|   Marvel|\n",
            "|Captain America: ...|2016-05-06 00:00:00|            147| 2.5E8|   4.0808435E8|1.1532963E9|        7.8|       75|   Marvel|\n",
            "|     Doctor Strange |2016-11-04 00:00:00|            115|1.65E8|   2.3264192E8| 6.777184E8|        7.5|       72|   Marvel|\n",
            "|Guardians of the ...|2017-05-05 00:00:00|            136| 2.0E8|    3.898131E8|  8.63756E8|        7.6|       67|   Marvel|\n",
            "|Spider-Man:Homeco...|2017-07-07 00:00:00|            133|1.75E8|   3.3420115E8| 8.801669E8|        7.4|       73|   Marvel|\n",
            "|       Thor:Ragnarok|2017-11-03 00:00:00|            130| 1.8E8|   3.1505828E7|8.5397715E8|        7.9|       74|   Marvel|\n",
            "|       Black Panther|2018-02-16 00:00:00|            134| 2.0E8|    7.000595E7|1.3469132E9|        7.3|       88|   Marvel|\n",
            "|Avengers: Infinit...|2018-04-27 00:00:00|            149| 3.0E8|    6.788155E8|2.0483598E9|        8.4|       68|   Marvel|\n",
            "|Ant-Man and the Wasp|2018-07-06 00:00:00|            118| 1.3E8|   2.1664874E8| 6.226741E8|        7.0|       70|   Marvel|\n",
            "|      Captain-Marvel|2019-03-08 00:00:00|            123| 1.6E8|   4.2682982E8|1.1282748E9|        6.8|       64|   Marvel|\n",
            "|    Avengers:Endgame|2019-04-26 00:00:00|            181|3.56E8|     8.58373E8|2.7975014E9|        8.4|       78|   Marvel|\n",
            "|Spider-Man:Far Fr...|2019-07-02 00:00:00|            129| 1.6E8|    3.905321E8|1.1319279E9|        7.5|       69|   Marvel|\n",
            "|        Man of Steel|2013-06-14 00:00:00|            143|2.25E8|    2.910455E8| 6.680455E8|        7.1|       55|DC comics|\n",
            "|Batman v Superman...|2016-03-25 00:00:00|            152| 2.5E8|    3.303602E8| 8.736375E8|        6.4|       44|DC comics|\n",
            "|       Suicide Squad|2016-08-05 00:00:00|            123|1.75E8|   3.2510006E8| 7.468469E8|        5.9|       40|DC comics|\n",
            "|        Wonder Woman|2017-06-02 00:00:00|            141|1.49E8|    4.128452E8| 8.228543E8|        7.4|       76|DC comics|\n",
            "|      Justice League|2017-11-17 00:00:00|            120| 3.0E8|   2.2902429E8|  6.57927E8|        6.1|       45|DC comics|\n",
            "|             Aquaman|2018-12-21 00:00:00|            143| 2.0E8|   3.3510432E8|1.1485284E9|        6.8|       55|DC comics|\n",
            "|             Shazam!|2019-04-05 00:00:00|            132| 1.0E8|   1.4048005E8|  3.67799E8|        7.0|       71|DC comics|\n",
            "+--------------------+-------------------+---------------+------+--------------+-----------+-----------+---------+---------+\n",
            "only showing top 30 rows\n",
            "\n"
          ]
        }
      ],
      "source": [
        "hero = mceu.union(dcue)\n",
        "hero.show(30)"
      ]
    },
    {
      "cell_type": "markdown",
      "metadata": {},
      "source": [
        "Which has the biggest total revenue combined. "
      ]
    },
    {
      "cell_type": "code",
      "execution_count": 60,
      "metadata": {},
      "outputs": [
        {
          "name": "stdout",
          "output_type": "stream",
          "text": [
            "+---------+------------------+--------------------+\n",
            "|   Studio|Total Studio Gross|Average Studio Gross|\n",
            "+---------+------------------+--------------------+\n",
            "|DC comics|     6.605509744E9|5.0811613415384614E8|\n",
            "|   Marvel|   2.2586256272E10| 9.820111422608696E8|\n",
            "+---------+------------------+--------------------+\n",
            "\n"
          ]
        }
      ],
      "source": [
        "aggregated_hero = hero.groupBy('Studio').agg(\n",
        "    sum('Total Gross').alias('Total Studio Gross'),\n",
        "    avg('Total Gross').alias('Average Studio Gross')\n",
        ")\n",
        "\n",
        "aggregated_hero.show()"
      ]
    },
    {
      "cell_type": "code",
      "execution_count": 61,
      "metadata": {},
      "outputs": [
        {
          "data": {
            "text/plain": [
              "Text(0.5, 1.0, 'Bar Plot for Whole revenue')"
            ]
          },
          "execution_count": 61,
          "metadata": {},
          "output_type": "execute_result"
        },
        {
          "data": {
            "image/png": "[encoded data removed]",
            "text/plain": [
              "<Figure size 640x480 with 1 Axes>"
            ]
          },
          "metadata": {},
          "output_type": "display_data"
        }
      ],
      "source": [
        "plthero = aggregated_hero.toPandas()\n",
        "plt.bar(plthero[\"Studio\"], plthero[\"Total Studio Gross\"])\n",
        "plt.xlabel(\"Movie Title\")\n",
        "plt.ylabel(\"Total Gross Revenue\")\n",
        "plt.title(\"Bar Plot for Whole revenue\")"
      ]
    },
    {
      "cell_type": "code",
      "execution_count": 66,
      "metadata": {},
      "outputs": [
        {
          "ename": "TypeError",
          "evalue": "Casting to unit-less dtype 'datetime64' is not supported. Pass e.g. 'datetime64[ns]' instead.",
          "output_type": "error",
          "traceback": [
            "\u001b[0;31m---------------------------------------------------------------------------\u001b[0m",
            "\u001b[0;31mTypeError\u001b[0m                                 Traceback (most recent call last)",
            "\u001b[1;32m/Users/tequan/Desktop/Cours ISEN/Hadoop & Spark/Spark lab/Colab_starting_template.ipynb Cellule 61\u001b[0m line \u001b[0;36m2\n\u001b[1;32m      <a href='vscode-notebook-cell:/Users/tequan/Desktop/Cours%20ISEN/Hadoop%20%26%20Spark/Spark%20lab/Colab_starting_template.ipynb#Y141sZmlsZQ%3D%3D?line=0'>1</a>\u001b[0m \u001b[39mimport\u001b[39;00m \u001b[39mseaborn\u001b[39;00m \u001b[39mas\u001b[39;00m \u001b[39msns\u001b[39;00m\n\u001b[0;32m----> <a href='vscode-notebook-cell:/Users/tequan/Desktop/Cours%20ISEN/Hadoop%20%26%20Spark/Spark%20lab/Colab_starting_template.ipynb#Y141sZmlsZQ%3D%3D?line=1'>2</a>\u001b[0m h \u001b[39m=\u001b[39m hero\u001b[39m.\u001b[39;49mtoPandas()\n\u001b[1;32m      <a href='vscode-notebook-cell:/Users/tequan/Desktop/Cours%20ISEN/Hadoop%20%26%20Spark/Spark%20lab/Colab_starting_template.ipynb#Y141sZmlsZQ%3D%3D?line=2'>3</a>\u001b[0m plt\u001b[39m.\u001b[39mfigure(figsize\u001b[39m=\u001b[39m(\u001b[39m10\u001b[39m, \u001b[39m6\u001b[39m))\n\u001b[1;32m      <a href='vscode-notebook-cell:/Users/tequan/Desktop/Cours%20ISEN/Hadoop%20%26%20Spark/Spark%20lab/Colab_starting_template.ipynb#Y141sZmlsZQ%3D%3D?line=4'>5</a>\u001b[0m \u001b[39m# Create a line plot\u001b[39;00m\n",
            "File \u001b[0;32m~/Desktop/Cours ISEN/Hadoop & Spark/spark/python/pyspark/sql/pandas/conversion.py:251\u001b[0m, in \u001b[0;36mPandasConversionMixin.toPandas\u001b[0;34m(self)\u001b[0m\n\u001b[1;32m    248\u001b[0m should_check_timedelta \u001b[39m=\u001b[39m is_timedelta64_dtype(t) \u001b[39mand\u001b[39;00m \u001b[39mlen\u001b[39m(pdf) \u001b[39m==\u001b[39m \u001b[39m0\u001b[39m\n\u001b[1;32m    250\u001b[0m \u001b[39mif\u001b[39;00m (t \u001b[39mis\u001b[39;00m \u001b[39mnot\u001b[39;00m \u001b[39mNone\u001b[39;00m \u001b[39mand\u001b[39;00m \u001b[39mnot\u001b[39;00m is_timedelta64_dtype(t)) \u001b[39mor\u001b[39;00m should_check_timedelta:\n\u001b[0;32m--> 251\u001b[0m     series \u001b[39m=\u001b[39m series\u001b[39m.\u001b[39;49mastype(t, copy\u001b[39m=\u001b[39;49m\u001b[39mFalse\u001b[39;49;00m)\n\u001b[1;32m    253\u001b[0m \u001b[39mwith\u001b[39;00m catch_warnings():\n\u001b[1;32m    254\u001b[0m     \u001b[39mfrom\u001b[39;00m \u001b[39mpandas\u001b[39;00m\u001b[39m.\u001b[39;00m\u001b[39merrors\u001b[39;00m \u001b[39mimport\u001b[39;00m PerformanceWarning\n",
            "File \u001b[0;32m/Library/Frameworks/Python.framework/Versions/3.11/lib/python3.11/site-packages/pandas/core/generic.py:6534\u001b[0m, in \u001b[0;36mNDFrame.astype\u001b[0;34m(self, dtype, copy, errors)\u001b[0m\n\u001b[1;32m   6530\u001b[0m     results \u001b[39m=\u001b[39m [ser\u001b[39m.\u001b[39mastype(dtype, copy\u001b[39m=\u001b[39mcopy) \u001b[39mfor\u001b[39;00m _, ser \u001b[39min\u001b[39;00m \u001b[39mself\u001b[39m\u001b[39m.\u001b[39mitems()]\n\u001b[1;32m   6532\u001b[0m \u001b[39melse\u001b[39;00m:\n\u001b[1;32m   6533\u001b[0m     \u001b[39m# else, only a single dtype is given\u001b[39;00m\n\u001b[0;32m-> 6534\u001b[0m     new_data \u001b[39m=\u001b[39m \u001b[39mself\u001b[39;49m\u001b[39m.\u001b[39;49m_mgr\u001b[39m.\u001b[39;49mastype(dtype\u001b[39m=\u001b[39;49mdtype, copy\u001b[39m=\u001b[39;49mcopy, errors\u001b[39m=\u001b[39;49merrors)\n\u001b[1;32m   6535\u001b[0m     res \u001b[39m=\u001b[39m \u001b[39mself\u001b[39m\u001b[39m.\u001b[39m_constructor_from_mgr(new_data, axes\u001b[39m=\u001b[39mnew_data\u001b[39m.\u001b[39maxes)\n\u001b[1;32m   6536\u001b[0m     \u001b[39mreturn\u001b[39;00m res\u001b[39m.\u001b[39m__finalize__(\u001b[39mself\u001b[39m, method\u001b[39m=\u001b[39m\u001b[39m\"\u001b[39m\u001b[39mastype\u001b[39m\u001b[39m\"\u001b[39m)\n",
            "File \u001b[0;32m/Library/Frameworks/Python.framework/Versions/3.11/lib/python3.11/site-packages/pandas/core/internals/managers.py:414\u001b[0m, in \u001b[0;36mBaseBlockManager.astype\u001b[0;34m(self, dtype, copy, errors)\u001b[0m\n\u001b[1;32m    411\u001b[0m \u001b[39melif\u001b[39;00m using_copy_on_write():\n\u001b[1;32m    412\u001b[0m     copy \u001b[39m=\u001b[39m \u001b[39mFalse\u001b[39;00m\n\u001b[0;32m--> 414\u001b[0m \u001b[39mreturn\u001b[39;00m \u001b[39mself\u001b[39;49m\u001b[39m.\u001b[39;49mapply(\n\u001b[1;32m    415\u001b[0m     \u001b[39m\"\u001b[39;49m\u001b[39mastype\u001b[39;49m\u001b[39m\"\u001b[39;49m,\n\u001b[1;32m    416\u001b[0m     dtype\u001b[39m=\u001b[39;49mdtype,\n\u001b[1;32m    417\u001b[0m     copy\u001b[39m=\u001b[39;49mcopy,\n\u001b[1;32m    418\u001b[0m     errors\u001b[39m=\u001b[39;49merrors,\n\u001b[1;32m    419\u001b[0m     using_cow\u001b[39m=\u001b[39;49musing_copy_on_write(),\n\u001b[1;32m    420\u001b[0m )\n",
            "File \u001b[0;32m/Library/Frameworks/Python.framework/Versions/3.11/lib/python3.11/site-packages/pandas/core/internals/managers.py:354\u001b[0m, in \u001b[0;36mBaseBlockManager.apply\u001b[0;34m(self, f, align_keys, **kwargs)\u001b[0m\n\u001b[1;32m    352\u001b[0m         applied \u001b[39m=\u001b[39m b\u001b[39m.\u001b[39mapply(f, \u001b[39m*\u001b[39m\u001b[39m*\u001b[39mkwargs)\n\u001b[1;32m    353\u001b[0m     \u001b[39melse\u001b[39;00m:\n\u001b[0;32m--> 354\u001b[0m         applied \u001b[39m=\u001b[39m \u001b[39mgetattr\u001b[39;49m(b, f)(\u001b[39m*\u001b[39;49m\u001b[39m*\u001b[39;49mkwargs)\n\u001b[1;32m    355\u001b[0m     result_blocks \u001b[39m=\u001b[39m extend_blocks(applied, result_blocks)\n\u001b[1;32m    357\u001b[0m out \u001b[39m=\u001b[39m \u001b[39mtype\u001b[39m(\u001b[39mself\u001b[39m)\u001b[39m.\u001b[39mfrom_blocks(result_blocks, \u001b[39mself\u001b[39m\u001b[39m.\u001b[39maxes)\n",
            "File \u001b[0;32m/Library/Frameworks/Python.framework/Versions/3.11/lib/python3.11/site-packages/pandas/core/internals/blocks.py:616\u001b[0m, in \u001b[0;36mBlock.astype\u001b[0;34m(self, dtype, copy, errors, using_cow)\u001b[0m\n\u001b[1;32m    596\u001b[0m \u001b[39m\u001b[39m\u001b[39m\"\"\"\u001b[39;00m\n\u001b[1;32m    597\u001b[0m \u001b[39mCoerce to the new dtype.\u001b[39;00m\n\u001b[1;32m    598\u001b[0m \n\u001b[0;32m   (...)\u001b[0m\n\u001b[1;32m    612\u001b[0m \u001b[39mBlock\u001b[39;00m\n\u001b[1;32m    613\u001b[0m \u001b[39m\"\"\"\u001b[39;00m\n\u001b[1;32m    614\u001b[0m values \u001b[39m=\u001b[39m \u001b[39mself\u001b[39m\u001b[39m.\u001b[39mvalues\n\u001b[0;32m--> 616\u001b[0m new_values \u001b[39m=\u001b[39m astype_array_safe(values, dtype, copy\u001b[39m=\u001b[39;49mcopy, errors\u001b[39m=\u001b[39;49merrors)\n\u001b[1;32m    618\u001b[0m new_values \u001b[39m=\u001b[39m maybe_coerce_values(new_values)\n\u001b[1;32m    620\u001b[0m refs \u001b[39m=\u001b[39m \u001b[39mNone\u001b[39;00m\n",
            "File \u001b[0;32m/Library/Frameworks/Python.framework/Versions/3.11/lib/python3.11/site-packages/pandas/core/dtypes/astype.py:238\u001b[0m, in \u001b[0;36mastype_array_safe\u001b[0;34m(values, dtype, copy, errors)\u001b[0m\n\u001b[1;32m    235\u001b[0m     dtype \u001b[39m=\u001b[39m dtype\u001b[39m.\u001b[39mnumpy_dtype\n\u001b[1;32m    237\u001b[0m \u001b[39mtry\u001b[39;00m:\n\u001b[0;32m--> 238\u001b[0m     new_values \u001b[39m=\u001b[39m astype_array(values, dtype, copy\u001b[39m=\u001b[39;49mcopy)\n\u001b[1;32m    239\u001b[0m \u001b[39mexcept\u001b[39;00m (\u001b[39mValueError\u001b[39;00m, \u001b[39mTypeError\u001b[39;00m):\n\u001b[1;32m    240\u001b[0m     \u001b[39m# e.g. _astype_nansafe can fail on object-dtype of strings\u001b[39;00m\n\u001b[1;32m    241\u001b[0m     \u001b[39m#  trying to convert to float\u001b[39;00m\n\u001b[1;32m    242\u001b[0m     \u001b[39mif\u001b[39;00m errors \u001b[39m==\u001b[39m \u001b[39m\"\u001b[39m\u001b[39mignore\u001b[39m\u001b[39m\"\u001b[39m:\n",
            "File \u001b[0;32m/Library/Frameworks/Python.framework/Versions/3.11/lib/python3.11/site-packages/pandas/core/dtypes/astype.py:180\u001b[0m, in \u001b[0;36mastype_array\u001b[0;34m(values, dtype, copy)\u001b[0m\n\u001b[1;32m    176\u001b[0m     \u001b[39mreturn\u001b[39;00m values\n\u001b[1;32m    178\u001b[0m \u001b[39mif\u001b[39;00m \u001b[39mnot\u001b[39;00m \u001b[39misinstance\u001b[39m(values, np\u001b[39m.\u001b[39mndarray):\n\u001b[1;32m    179\u001b[0m     \u001b[39m# i.e. ExtensionArray\u001b[39;00m\n\u001b[0;32m--> 180\u001b[0m     values \u001b[39m=\u001b[39m values\u001b[39m.\u001b[39;49mastype(dtype, copy\u001b[39m=\u001b[39;49mcopy)\n\u001b[1;32m    182\u001b[0m \u001b[39melse\u001b[39;00m:\n\u001b[1;32m    183\u001b[0m     values \u001b[39m=\u001b[39m _astype_nansafe(values, dtype, copy\u001b[39m=\u001b[39mcopy)\n",
            "File \u001b[0;32m/Library/Frameworks/Python.framework/Versions/3.11/lib/python3.11/site-packages/pandas/core/arrays/datetimes.py:720\u001b[0m, in \u001b[0;36mDatetimeArray.astype\u001b[0;34m(self, dtype, copy)\u001b[0m\n\u001b[1;32m    708\u001b[0m     \u001b[39mraise\u001b[39;00m \u001b[39mTypeError\u001b[39;00m(\n\u001b[1;32m    709\u001b[0m         \u001b[39m\"\u001b[39m\u001b[39mCannot use .astype to convert from timezone-aware dtype to \u001b[39m\u001b[39m\"\u001b[39m\n\u001b[1;32m    710\u001b[0m         \u001b[39m\"\u001b[39m\u001b[39mtimezone-naive dtype. Use obj.tz_localize(None) or \u001b[39m\u001b[39m\"\u001b[39m\n\u001b[1;32m    711\u001b[0m         \u001b[39m\"\u001b[39m\u001b[39mobj.tz_convert(\u001b[39m\u001b[39m'\u001b[39m\u001b[39mUTC\u001b[39m\u001b[39m'\u001b[39m\u001b[39m).tz_localize(None) instead.\u001b[39m\u001b[39m\"\u001b[39m\n\u001b[1;32m    712\u001b[0m     )\n\u001b[1;32m    714\u001b[0m \u001b[39melif\u001b[39;00m (\n\u001b[1;32m    715\u001b[0m     \u001b[39mself\u001b[39m\u001b[39m.\u001b[39mtz \u001b[39mis\u001b[39;00m \u001b[39mNone\u001b[39;00m\n\u001b[1;32m    716\u001b[0m     \u001b[39mand\u001b[39;00m lib\u001b[39m.\u001b[39mis_np_dtype(dtype, \u001b[39m\"\u001b[39m\u001b[39mM\u001b[39m\u001b[39m\"\u001b[39m)\n\u001b[1;32m    717\u001b[0m     \u001b[39mand\u001b[39;00m dtype \u001b[39m!=\u001b[39m \u001b[39mself\u001b[39m\u001b[39m.\u001b[39mdtype\n\u001b[1;32m    718\u001b[0m     \u001b[39mand\u001b[39;00m is_unitless(dtype)\n\u001b[1;32m    719\u001b[0m ):\n\u001b[0;32m--> 720\u001b[0m     \u001b[39mraise\u001b[39;00m \u001b[39mTypeError\u001b[39;00m(\n\u001b[1;32m    721\u001b[0m         \u001b[39m\"\u001b[39m\u001b[39mCasting to unit-less dtype \u001b[39m\u001b[39m'\u001b[39m\u001b[39mdatetime64\u001b[39m\u001b[39m'\u001b[39m\u001b[39m is not supported. \u001b[39m\u001b[39m\"\u001b[39m\n\u001b[1;32m    722\u001b[0m         \u001b[39m\"\u001b[39m\u001b[39mPass e.g. \u001b[39m\u001b[39m'\u001b[39m\u001b[39mdatetime64[ns]\u001b[39m\u001b[39m'\u001b[39m\u001b[39m instead.\u001b[39m\u001b[39m\"\u001b[39m\n\u001b[1;32m    723\u001b[0m     )\n\u001b[1;32m    725\u001b[0m \u001b[39melif\u001b[39;00m \u001b[39misinstance\u001b[39m(dtype, PeriodDtype):\n\u001b[1;32m    726\u001b[0m     \u001b[39mreturn\u001b[39;00m \u001b[39mself\u001b[39m\u001b[39m.\u001b[39mto_period(freq\u001b[39m=\u001b[39mdtype\u001b[39m.\u001b[39mfreq)\n",
            "\u001b[0;31mTypeError\u001b[0m: Casting to unit-less dtype 'datetime64' is not supported. Pass e.g. 'datetime64[ns]' instead."
          ]
        }
      ],
      "source": [
        "import seaborn as sns\n",
        "h = hero.toPandas()\n",
        "plt.figure(figsize=(10, 6))\n",
        "\n",
        "# Create a line plot\n",
        "sns.lineplot(x='Movie Title', y='IMDB ratings', data=h)\n",
        "\n",
        "# Customize the plot\n",
        "plt.xlabel(\"Movie Title\")\n",
        "plt.ylabel(\"Rating\")\n",
        "plt.title(\"Line Plot\")\n",
        "\n",
        "# Show the plot\n",
        "plt.show()"
      ]
    }
  ],
  "metadata": {
    "colab": {
      "collapsed_sections": [
        "Ln9WVA3KaJgC",
        "d3CJzcU3Y8A-"
      ],
      "provenance": [],
      "toc_visible": true
    },
    "kernelspec": {
      "display_name": "Python 3",
      "name": "python3"
    },
    "language_info": {
      "codemirror_mode": {
        "name": "ipython",
        "version": 3
      },
      "file_extension": ".py",
      "mimetype": "text/x-python",
      "name": "python",
      "nbconvert_exporter": "python",
      "pygments_lexer": "ipython3",
      "version": "3.11.0"
    }
  },
  "nbformat": 4,
  "nbformat_minor": 0
}
